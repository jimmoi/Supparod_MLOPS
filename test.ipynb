{
 "cells": [
  {
   "cell_type": "code",
   "execution_count": 43,
   "id": "6eedc2e5",
   "metadata": {},
   "outputs": [],
   "source": [
    "import os\n",
    "import pandas as pd"
   ]
  },
  {
   "cell_type": "code",
   "execution_count": 44,
   "id": "d45ed400",
   "metadata": {},
   "outputs": [],
   "source": [
    "image_dir = r\"Dataset_github\""
   ]
  },
  {
   "cell_type": "code",
   "execution_count": 45,
   "id": "af243f40",
   "metadata": {},
   "outputs": [],
   "source": [
    "image_lst = []\n",
    "for image_class in os.listdir(image_dir):    \n",
    "    # print(image_class)\n",
    "    image_class_path = os.path.join(image_dir, image_class)\n",
    "    if os.path.isdir(image_class_path):\n",
    "        images = os.listdir(image_class_path)\n",
    "        images = [os.path.join(os.path.split(image_class_path)[-1], img) for img in images]\n",
    "        image_lst.extend(images)"
   ]
  },
  {
   "cell_type": "code",
   "execution_count": 46,
   "id": "32509123",
   "metadata": {},
   "outputs": [],
   "source": [
    "df = pd.DataFrame(image_lst, columns=['image:FILE'])\n",
    "df['category'] = 0"
   ]
  },
  {
   "cell_type": "code",
   "execution_count": 47,
   "id": "1fa43948",
   "metadata": {},
   "outputs": [
    {
     "data": {
      "application/vnd.microsoft.datawrangler.viewer.v0+json": {
       "columns": [
        {
         "name": "index",
         "rawType": "int64",
         "type": "integer"
        },
        {
         "name": "image:FILE",
         "rawType": "object",
         "type": "string"
        },
        {
         "name": "category",
         "rawType": "int64",
         "type": "integer"
        }
       ],
       "ref": "e1abfe13-c127-4af1-b502-2771ff9f60f0",
       "rows": [
        [
         "0",
         "aloevera\\aloevera800.jpg",
         "0"
        ],
        [
         "1",
         "aloevera\\aloevera801.jpg",
         "0"
        ],
        [
         "2",
         "aloevera\\aloevera802.jpg",
         "0"
        ],
        [
         "3",
         "aloevera\\aloevera803.jpg",
         "0"
        ],
        [
         "4",
         "aloevera\\aloevera804.jpg",
         "0"
        ],
        [
         "5",
         "aloevera\\aloevera805.jpg",
         "0"
        ],
        [
         "6",
         "aloevera\\aloevera806.jpg",
         "0"
        ],
        [
         "7",
         "aloevera\\aloevera807.jpg",
         "0"
        ],
        [
         "8",
         "aloevera\\aloevera808.jpg",
         "0"
        ],
        [
         "9",
         "aloevera\\aloevera809.jpg",
         "0"
        ],
        [
         "10",
         "banana\\banana800.jpg",
         "0"
        ],
        [
         "11",
         "banana\\banana801.jpg",
         "0"
        ],
        [
         "12",
         "banana\\banana802.jpg",
         "0"
        ],
        [
         "13",
         "banana\\banana803.jpg",
         "0"
        ],
        [
         "14",
         "banana\\banana804.jpg",
         "0"
        ],
        [
         "15",
         "banana\\banana805.jpg",
         "0"
        ],
        [
         "16",
         "banana\\banana806.jpg",
         "0"
        ],
        [
         "17",
         "banana\\banana807.jpg",
         "0"
        ],
        [
         "18",
         "banana\\banana808.jpg",
         "0"
        ],
        [
         "19",
         "banana\\banana809.jpg",
         "0"
        ],
        [
         "20",
         "bilimbi\\bilimbi800.jpg",
         "0"
        ],
        [
         "21",
         "bilimbi\\bilimbi801.jpg",
         "0"
        ],
        [
         "22",
         "bilimbi\\bilimbi802.jpg",
         "0"
        ],
        [
         "23",
         "bilimbi\\bilimbi803.jpg",
         "0"
        ],
        [
         "24",
         "bilimbi\\bilimbi804.jpg",
         "0"
        ],
        [
         "25",
         "bilimbi\\bilimbi805.jpg",
         "0"
        ],
        [
         "26",
         "bilimbi\\bilimbi806.jpg",
         "0"
        ],
        [
         "27",
         "bilimbi\\bilimbi807.jpg",
         "0"
        ],
        [
         "28",
         "bilimbi\\bilimbi808.jpg",
         "0"
        ],
        [
         "29",
         "bilimbi\\bilimbi809.jpg",
         "0"
        ],
        [
         "30",
         "cantaloupe\\cantaloupe800.jpg",
         "0"
        ],
        [
         "31",
         "cantaloupe\\cantaloupe801.jpg",
         "0"
        ],
        [
         "32",
         "cantaloupe\\cantaloupe802.jpg",
         "0"
        ],
        [
         "33",
         "cantaloupe\\cantaloupe803.jpg",
         "0"
        ],
        [
         "34",
         "cantaloupe\\cantaloupe804.jpg",
         "0"
        ],
        [
         "35",
         "cantaloupe\\cantaloupe805.jpg",
         "0"
        ],
        [
         "36",
         "cantaloupe\\cantaloupe806.jpg",
         "0"
        ],
        [
         "37",
         "cantaloupe\\cantaloupe807.jpg",
         "0"
        ],
        [
         "38",
         "cantaloupe\\cantaloupe808.jpg",
         "0"
        ],
        [
         "39",
         "cantaloupe\\cantaloupe809.jpg",
         "0"
        ],
        [
         "40",
         "cassava\\cassava800.jpg",
         "0"
        ],
        [
         "41",
         "cassava\\cassava801.jpg",
         "0"
        ],
        [
         "42",
         "cassava\\cassava802.jpg",
         "0"
        ],
        [
         "43",
         "cassava\\cassava803.jpg",
         "0"
        ],
        [
         "44",
         "cassava\\cassava804.jpg",
         "0"
        ],
        [
         "45",
         "cassava\\cassava805.jpg",
         "0"
        ],
        [
         "46",
         "cassava\\cassava806.jpg",
         "0"
        ],
        [
         "47",
         "cassava\\cassava807.jpg",
         "0"
        ],
        [
         "48",
         "cassava\\cassava808.jpg",
         "0"
        ],
        [
         "49",
         "cassava\\cassava809.jpg",
         "0"
        ]
       ],
       "shape": {
        "columns": 2,
        "rows": 300
       }
      },
      "text/html": [
       "<div>\n",
       "<style scoped>\n",
       "    .dataframe tbody tr th:only-of-type {\n",
       "        vertical-align: middle;\n",
       "    }\n",
       "\n",
       "    .dataframe tbody tr th {\n",
       "        vertical-align: top;\n",
       "    }\n",
       "\n",
       "    .dataframe thead th {\n",
       "        text-align: right;\n",
       "    }\n",
       "</style>\n",
       "<table border=\"1\" class=\"dataframe\">\n",
       "  <thead>\n",
       "    <tr style=\"text-align: right;\">\n",
       "      <th></th>\n",
       "      <th>image:FILE</th>\n",
       "      <th>category</th>\n",
       "    </tr>\n",
       "  </thead>\n",
       "  <tbody>\n",
       "    <tr>\n",
       "      <th>0</th>\n",
       "      <td>aloevera\\aloevera800.jpg</td>\n",
       "      <td>0</td>\n",
       "    </tr>\n",
       "    <tr>\n",
       "      <th>1</th>\n",
       "      <td>aloevera\\aloevera801.jpg</td>\n",
       "      <td>0</td>\n",
       "    </tr>\n",
       "    <tr>\n",
       "      <th>2</th>\n",
       "      <td>aloevera\\aloevera802.jpg</td>\n",
       "      <td>0</td>\n",
       "    </tr>\n",
       "    <tr>\n",
       "      <th>3</th>\n",
       "      <td>aloevera\\aloevera803.jpg</td>\n",
       "      <td>0</td>\n",
       "    </tr>\n",
       "    <tr>\n",
       "      <th>4</th>\n",
       "      <td>aloevera\\aloevera804.jpg</td>\n",
       "      <td>0</td>\n",
       "    </tr>\n",
       "    <tr>\n",
       "      <th>...</th>\n",
       "      <td>...</td>\n",
       "      <td>...</td>\n",
       "    </tr>\n",
       "    <tr>\n",
       "      <th>295</th>\n",
       "      <td>watermelon\\watermelon805.jpg</td>\n",
       "      <td>0</td>\n",
       "    </tr>\n",
       "    <tr>\n",
       "      <th>296</th>\n",
       "      <td>watermelon\\watermelon806.jpg</td>\n",
       "      <td>0</td>\n",
       "    </tr>\n",
       "    <tr>\n",
       "      <th>297</th>\n",
       "      <td>watermelon\\watermelon807.jpg</td>\n",
       "      <td>0</td>\n",
       "    </tr>\n",
       "    <tr>\n",
       "      <th>298</th>\n",
       "      <td>watermelon\\watermelon808.jpg</td>\n",
       "      <td>0</td>\n",
       "    </tr>\n",
       "    <tr>\n",
       "      <th>299</th>\n",
       "      <td>watermelon\\watermelon809.jpg</td>\n",
       "      <td>0</td>\n",
       "    </tr>\n",
       "  </tbody>\n",
       "</table>\n",
       "<p>300 rows × 2 columns</p>\n",
       "</div>"
      ],
      "text/plain": [
       "                       image:FILE  category\n",
       "0        aloevera\\aloevera800.jpg         0\n",
       "1        aloevera\\aloevera801.jpg         0\n",
       "2        aloevera\\aloevera802.jpg         0\n",
       "3        aloevera\\aloevera803.jpg         0\n",
       "4        aloevera\\aloevera804.jpg         0\n",
       "..                            ...       ...\n",
       "295  watermelon\\watermelon805.jpg         0\n",
       "296  watermelon\\watermelon806.jpg         0\n",
       "297  watermelon\\watermelon807.jpg         0\n",
       "298  watermelon\\watermelon808.jpg         0\n",
       "299  watermelon\\watermelon809.jpg         0\n",
       "\n",
       "[300 rows x 2 columns]"
      ]
     },
     "execution_count": 47,
     "metadata": {},
     "output_type": "execute_result"
    }
   ],
   "source": [
    "df"
   ]
  },
  {
   "cell_type": "code",
   "execution_count": 48,
   "id": "b686f039",
   "metadata": {},
   "outputs": [],
   "source": [
    "import sklearn.model_selection as train_test_split"
   ]
  },
  {
   "cell_type": "code",
   "execution_count": 49,
   "id": "92c70df7",
   "metadata": {},
   "outputs": [],
   "source": [
    "train_df, val_df = train_test_split.train_test_split(df, test_size=0.2, random_state=42, stratify=df['category'])\n",
    "train_df, test_df = train_test_split.train_test_split(train_df, test_size=0.25, random_state=42, stratify=train_df['category'])"
   ]
  },
  {
   "cell_type": "code",
   "execution_count": 50,
   "id": "473189b6",
   "metadata": {},
   "outputs": [],
   "source": [
    "train_df.to_csv(r\"Dataset_github/train.csv\", index=False)\n",
    "val_df.to_csv(r\"Dataset_github/val.csv\", index=False)\n",
    "test_df.to_csv(r\"Dataset_github/test.csv\", index=False)"
   ]
  },
  {
   "cell_type": "markdown",
   "id": "cd33a5f6",
   "metadata": {},
   "source": [
    "pytorch version"
   ]
  },
  {
   "cell_type": "code",
   "execution_count": 3,
   "id": "d6353862",
   "metadata": {},
   "outputs": [
    {
     "name": "stdout",
     "output_type": "stream",
     "text": [
      "2.6.0+cu124\n"
     ]
    }
   ],
   "source": [
    "import torch\n",
    "print(torch.__version__)"
   ]
  },
  {
   "cell_type": "code",
   "execution_count": 4,
   "id": "c3966d2d",
   "metadata": {},
   "outputs": [
    {
     "data": {
      "text/plain": [
       "'NVIDIA GeForce RTX 2050'"
      ]
     },
     "execution_count": 4,
     "metadata": {},
     "output_type": "execute_result"
    }
   ],
   "source": [
    "torch.cuda.get_device_name(0) if torch.cuda.is_available() else None"
   ]
  },
  {
   "cell_type": "code",
   "execution_count": null,
   "id": "29d062e5",
   "metadata": {},
   "outputs": [],
   "source": []
  }
 ],
 "metadata": {
  "kernelspec": {
   "display_name": "mlops_project",
   "language": "python",
   "name": "python3"
  },
  "language_info": {
   "codemirror_mode": {
    "name": "ipython",
    "version": 3
   },
   "file_extension": ".py",
   "mimetype": "text/x-python",
   "name": "python",
   "nbconvert_exporter": "python",
   "pygments_lexer": "ipython3",
   "version": "3.12.11"
  }
 },
 "nbformat": 4,
 "nbformat_minor": 5
}
