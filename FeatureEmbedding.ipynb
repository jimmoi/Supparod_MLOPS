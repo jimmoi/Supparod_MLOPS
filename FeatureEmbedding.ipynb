{
 "cells": [
  {
   "cell_type": "code",
   "execution_count": null,
   "id": "b073c687",
   "metadata": {},
   "outputs": [],
   "source": [
    "import torch\n",
    "\n",
    "# 1. Check available device and assign it to the 'device' variable\n",
    "device = torch.device(\"cuda\" if torch.cuda.is_available() else \"cpu\")\n",
    "print(f\"Using device: {device}\")\n",
    "\n",
    "# 2. Load the model, mapping its saved tensors to the determined device\n",
    "model = torch.jit.load(r\"ghost_netv1.pt\", map_location=device)\n",
    "\n",
    "# 3. Explicitly move the entire model structure (including all parameters) \n",
    "#    to the determined device. (This is generally done right after loading \n",
    "#    to ensure everything is properly on the GPU.)\n",
    "model.to(device) \n",
    "\n",
    "# Verify the model is on the GPU\n",
    "print(f\"Model parameters device: {next(model.parameters()).device}\")"
   ]
  },
  {
   "cell_type": "code",
   "execution_count": null,
   "id": "9f01d9c9",
   "metadata": {},
   "outputs": [],
   "source": [
    "feature_layers = []\n",
    "for name, module in model.named_children():\n",
    "    if name != \"classifier\":\n",
    "        feature_layers.append(module)\n",
    "    else:\n",
    "        break\n",
    "feature_extractor = torch.nn.Sequential(*feature_layers)"
   ]
  },
  {
   "cell_type": "code",
   "execution_count": null,
   "id": "f9fd98ae",
   "metadata": {},
   "outputs": [],
   "source": [
    "from tqdm import tqdm\n",
    "\n",
    "# Set the feature extractor to evaluation mode (essential!)\n",
    "feature_extractor.eval() \n",
    "\n",
    "feature_vectors = []\n",
    "\n",
    "with torch.no_grad(): # Disable gradient calculation for efficiency\n",
    "    for images, _ in tqdm(train_loader, desc=\"Extracting Features\"):\n",
    "        images = images.to(device)\n",
    "        \n",
    "        # 1. Get the raw output from the Feature Extractor\n",
    "        vector_output = feature_extractor(images)\n",
    "        \n",
    "        # 2. Flatten the output into a single feature vector per image\n",
    "        # This step depends on the last layer of your feature_extractor. \n",
    "        # If the last layer is GlobalAvgPool2d, the output is (BatchSize, Feature_Dim).\n",
    "        # If it's a Conv layer, you need to flatten:\n",
    "        # We assume the output is already the embedding (BatchSize, Feature_Dim)\n",
    "        \n",
    "        # A safer flatten for JIT/Scripted models if you don't know the final layer:\n",
    "        # Example: If GhostNet's final feature layer is 1280 channels:\n",
    "        # vector = vector_output.view(vector_output.size(0), -1) \n",
    "        \n",
    "        # Assuming the final layer outputs the flat feature vector (e.g., after AdaptiveAvgPool2d):\n",
    "        vectors = vector_output.squeeze() \n",
    "\n",
    "        feature_vectors.append(vectors.cpu())\n",
    "\n",
    "# Concatenate all feature vectors into one large tensor\n",
    "normal_features = torch.cat(feature_vectors, dim=0)\n",
    "feature_dim = normal_features.shape[1] \n",
    "print(f\"Total Normal Features Generated: {normal_features.shape}\")\n",
    "print(f\"Feature Vector Dimension: {feature_dim}\")"
   ]
  },
  {
   "cell_type": "code",
   "execution_count": null,
   "id": "5cd00010",
   "metadata": {},
   "outputs": [],
   "source": [
    "import torch.nn as nn\n",
    "import torch.optim as optim\n",
    "\n",
    "# Define the Autoencoder (Encoder + Decoder)\n",
    "class Autoencoder(nn.Module):\n",
    "    def __init__(self, input_dim, latent_dim=128):\n",
    "        super(Autoencoder, self).__init__()\n",
    "        \n",
    "        # Encoder (Compresses the feature vector)\n",
    "        self.encoder = nn.Sequential(\n",
    "            nn.Linear(input_dim, input_dim // 2),\n",
    "            nn.ReLU(True),\n",
    "            nn.Linear(input_dim // 2, latent_dim), # Bottleneck\n",
    "            nn.ReLU(True)\n",
    "        )\n",
    "        \n",
    "        # Decoder (Reconstructs the feature vector)\n",
    "        self.decoder = nn.Sequential(\n",
    "            nn.Linear(latent_dim, input_dim // 2),\n",
    "            nn.ReLU(True),\n",
    "            nn.Linear(input_dim // 2, input_dim),\n",
    "            # No activation on the final layer for reconstruction (allows negative values)\n",
    "        )\n",
    "\n",
    "    def forward(self, x):\n",
    "        encoded = self.encoder(x)\n",
    "        decoded = self.decoder(encoded)\n",
    "        return decoded\n",
    "\n",
    "# --- Setup and Training ---\n",
    "\n",
    "# Hyperparameters (Adjust these)\n",
    "LATENT_DIM = 256 # A smaller dimension than feature_dim\n",
    "NUM_EPOCHS = 50\n",
    "BATCH_SIZE = 64\n",
    "LEARNING_RATE = 1e-3\n",
    "\n",
    "# Initialize the Autoencoder\n",
    "ae_model = Autoencoder(input_dim=feature_dim, latent_dim=LATENT_DIM).to(device)\n",
    "\n",
    "# Loss Function: Mean Squared Error (for L2 reconstruction loss)\n",
    "criterion = nn.MSELoss(reduction='mean')\n",
    "optimizer = optim.Adam(ae_model.parameters(), lr=LEARNING_RATE)\n",
    "\n",
    "# Create a DataLoader for the features themselves\n",
    "feature_dataset = torch.utils.data.TensorDataset(normal_features.to(device))\n",
    "feature_loader = torch.utils.data.DataLoader(feature_dataset, batch_size=BATCH_SIZE, shuffle=True)\n",
    "\n",
    "\n",
    "print(\"\\nStarting Autoencoder Training...\")\n",
    "\n",
    "for epoch in range(NUM_EPOCHS):\n",
    "    total_loss = 0\n",
    "    for (data,) in feature_loader:\n",
    "        # data is the input feature vector, and the target is also data (self-supervision)\n",
    "        \n",
    "        optimizer.zero_grad()\n",
    "        \n",
    "        reconstructed_data = ae_model(data)\n",
    "        \n",
    "        # Loss is the difference (reconstruction error)\n",
    "        loss = criterion(reconstructed_data, data) \n",
    "        \n",
    "        loss.backward()\n",
    "        optimizer.step()\n",
    "        \n",
    "        total_loss += loss.item() * data.size(0)\n",
    "    \n",
    "    avg_loss = total_loss / len(normal_features)\n",
    "    print(f\"Epoch [{epoch+1}/{NUM_EPOCHS}], Loss: {avg_loss:.6f}\")\n",
    "\n",
    "# Save the trained Autoencoder model\n",
    "torch.save(ae_model.state_dict(), 'autoencoder_anomaly_detector.pth')\n",
    "print(\"Autoencoder model saved.\")"
   ]
  },
  {
   "cell_type": "code",
   "execution_count": 44,
   "id": "6a94d802",
   "metadata": {},
   "outputs": [
    {
     "name": "stdout",
     "output_type": "stream",
     "text": [
      "Loading preprocessing artifacts from local PKL file...\n",
      "Loading training data from: C:\\Users\\ch0kism\\Documents\\GitHub\\Supparod_MLOPS\\validation_data\n",
      "FATAL: Error during data setup: CustomDataset.__init__() got an unexpected keyword argument 'image_root_path'\n"
     ]
    },
    {
     "ename": "SystemExit",
     "evalue": "1",
     "output_type": "error",
     "traceback": [
      "An exception has occurred, use %tb to see the full traceback.\n",
      "\u001b[31mSystemExit\u001b[39m\u001b[31m:\u001b[39m 1\n"
     ]
    },
    {
     "name": "stderr",
     "output_type": "stream",
     "text": [
      "c:\\Users\\ch0kism\\miniconda3\\envs\\mlflow\\Lib\\site-packages\\IPython\\core\\interactiveshell.py:3707: UserWarning: To exit: use 'exit', 'quit', or Ctrl-D.\n",
      "  warn(\"To exit: use 'exit', 'quit', or Ctrl-D.\", stacklevel=1)\n"
     ]
    }
   ],
   "source": [
    "import torch\n",
    "from torch.utils.data import DataLoader, Dataset\n",
    "from sklearn.preprocessing import LabelEncoder\n",
    "import pandas as pd\n",
    "import os\n",
    "import pickle\n",
    "from PIL import Image\n",
    "from tqdm import tqdm\n",
    "import sys\n",
    "\n",
    "# --- Configuration ---\n",
    "# 🎯 SET YOUR ABSOLUTE PATHS HERE 🎯\n",
    "LOCAL_PKL_PATH = r\"C:\\Users\\ch0kism\\Documents\\GitHub\\Supparod_MLOPS\\processed_data\\preprocess_artifact.pkl\"\n",
    "# 🎯 YOU MUST SET THE PATH TO YOUR CSVs (if they are also local) 🎯\n",
    "# Assume your CSVs are in a directory named 'validation_data' next to your code root, \n",
    "# or wherever your data validation step put them.\n",
    "LOCAL_DATA_ROOT = r\"C:\\Users\\ch0kism\\Documents\\GitHub\\Supparod_MLOPS\\validation_data\" \n",
    "IMAGE_DATA_ROOT = r\"C:\\Users\\ch0kism\\Documents\\GitHub\\Supparod_MLOPS\\Dataset_github\"\n",
    "\n",
    "BATCH_SIZE = 64\n",
    "device = torch.device(\"cuda\" if torch.cuda.is_available() else \"cpu\")\n",
    "\n",
    "# --- CustomDataset Class Definition (Re-pasted from your file for completeness) ---\n",
    "class CustomDataset(Dataset):\n",
    "    def __init__(self, path_label, transform=None):\n",
    "        self.path_label = path_label\n",
    "        self.transform = transform\n",
    "    def __len__(self):\n",
    "        return len(self.path_label)\n",
    "    def __getitem__(self, idx):\n",
    "        path, label = self.path_label[idx]\n",
    "        img = Image.open(path).convert('RGB')\n",
    "        if self.transform is not None:\n",
    "            img = self.transform(img)\n",
    "        label = torch.tensor(label, dtype=torch.long)\n",
    "        return img, label\n",
    "    \n",
    "def create_path_label_list(df, image_root_path=IMAGE_DATA_ROOT):\n",
    "    path_label_list = []\n",
    "    for _, row in df.iterrows():\n",
    "        path_label_list.append((row['file_path'], row['label']))\n",
    "    return path_label_list\n",
    "# ---------------------------------------------------------------------------------\n",
    "\n",
    "# --- 1. LOCAL ARTIFACT AND DATA LOADING ---\n",
    "try:\n",
    "    print(\"Loading preprocessing artifacts from local PKL file...\")\n",
    "    # Load the Label Encoder and the Inference Transform from the PKL file\n",
    "    with open(LOCAL_PKL_PATH, \"rb\") as f:\n",
    "        artifact_data = pickle.load(f)\n",
    "\n",
    "    le = artifact_data[\"label_encoder\"]\n",
    "    inference_transform = artifact_data[\"transform\"]\n",
    "    \n",
    "    # 1.2 Read the training data CSV (assuming it's available locally)\n",
    "    print(f\"Loading training data from: {LOCAL_DATA_ROOT}\")\n",
    "    train_path = os.path.join(LOCAL_DATA_ROOT, \"train.csv\")\n",
    "    train_df = pd.read_csv(train_path)\n",
    "    \n",
    "    # 1.3 Re-encode labels using the loaded LabelEncoder\n",
    "    # Note: If 'class' column is not in train_df, this will fail.\n",
    "    train_df['label'] = le.transform(train_df['class'])\n",
    "    \n",
    "    # 1.4 Create the DataLoader\n",
    "\n",
    "    train_dataset = CustomDataset(create_path_label_list(train_df), image_root_path=IMAGE_DATA_ROOT, transform=inference_transform)\n",
    "    train_loader = DataLoader(train_dataset, batch_size=BATCH_SIZE, shuffle=True)\n",
    "    \n",
    "    print(f\"✅ train_loader successfully created with {len(train_loader.dataset)} samples.\")\n",
    "\n",
    "except FileNotFoundError as e:\n",
    "    print(f\"FATAL: File not found. Check your paths: {e}\")\n",
    "    print(\"HINT: Ensure LOCAL_PKL_PATH and LOCAL_DATA_ROOT are set correctly.\")\n",
    "    sys.exit(1)\n",
    "except Exception as e:\n",
    "    print(f\"FATAL: Error during data setup: {e}\")\n",
    "    sys.exit(1)"
   ]
  },
  {
   "cell_type": "code",
   "execution_count": 29,
   "id": "129a4d13",
   "metadata": {},
   "outputs": [],
   "source": [
    "import pandas as pd\n",
    "from sklearn.preprocessing import LabelEncoder \n",
    "from torchvision import transforms\n",
    "import os\n",
    "from torch.utils.data import DataLoader, Dataset, TensorDataset\n",
    "from tqdm import tqdm\n",
    "import numpy as np\n",
    "import torch\n",
    "import torch.nn as nn\n",
    "\n",
    "import mlflow\n",
    "from mlflow.artifacts import download_artifacts\n",
    "from torchvision import transforms\n",
    "import json\n",
    "import sys\n",
    "from PIL import Image\n",
    "\n",
    "import pickle"
   ]
  },
  {
   "cell_type": "code",
   "execution_count": 20,
   "id": "577e9bae",
   "metadata": {},
   "outputs": [
    {
     "name": "stdout",
     "output_type": "stream",
     "text": [
      "Successfully loaded data from downloaded artifacts.\n"
     ]
    }
   ],
   "source": [
    "try:\n",
    "    # local_artifact_path = download_artifacts(\n",
    "    #     run_id=data_validation_id,\n",
    "    #     artifact_path=\"validation_data\"\n",
    "    # )\n",
    "    # print(f\"Artifacts downloaded to: {local_artifact_path}\")\n",
    "\n",
    "\n",
    "    # 1.2 สร้างพาธไปยังไฟล์ CSV ที่ดาวน์โหลดมา\n",
    "    # train_path = os.path.join(local_artifact_path, \"train.csv\")\n",
    "    # val_path = os.path.join(local_artifact_path, \"val.csv\")\n",
    "    \n",
    "    # 1.3 อ่านไฟล์ CSV จาก local path ที่ถูกต้อง\n",
    "    train_df = pd.read_csv(r\"validation_data\\train.csv\")\n",
    "    val_df = pd.read_csv(r\"validation_data\\val.csv\")\n",
    "    print(\"Successfully loaded data from downloaded artifacts.\")\n",
    "    # --- END: โค้ดส่วนที่แก้ไข ---\n",
    "except Exception as e:\n",
    "    print(f\"Error loading artifacts: {e}\")\n",
    "    print(\"Please ensure the preprocessing_run_id is correct.\")\n",
    "    sys.exit(1)\n",
    "\n",
    "le = LabelEncoder()\n",
    "\n",
    "merged_df = pd.concat([train_df, val_df], ignore_index=True)\n",
    "le.fit(merged_df['class'])\n",
    "del merged_df\n",
    "train_df['label'] = le.transform(train_df['class'])\n",
    "val_df['label'] = le.transform(val_df['class'])\n",
    "\n",
    "def create_path_label_list(df):\n",
    "    path_label_list = []\n",
    "    for _, row in df.iterrows():\n",
    "        path = row['file_path']\n",
    "        label = row['label']\n",
    "        path_label_list.append((path, label))\n",
    "    return path_label_list\n",
    "\n",
    "transform=transforms.Compose([\n",
    "        transforms.RandomRotation(10),      # rotate +/- 10 degrees\n",
    "        transforms.RandomHorizontalFlip(),  # reverse 50% of images\n",
    "        transforms.Resize(224),             # resize shortest side to 224 pixels\n",
    "        transforms.CenterCrop(224),         # crop longest side to 224 pixels at center\n",
    "        transforms.ToTensor(),\n",
    "        transforms.Normalize([0.485, 0.456, 0.406],\n",
    "                            [0.229, 0.224, 0.225])\n",
    "])\n",
    "\n",
    "inference_transform = transforms.Compose([\n",
    "transforms.Resize(224),\n",
    "transforms.CenterCrop(224),\n",
    "transforms.ToTensor(),\n",
    "transforms.Normalize([0.485, 0.456, 0.406], [0.229, 0.224, 0.225])\n",
    "])\n",
    "\n",
    "\n",
    "\n",
    "class CustomDataset(Dataset):\n",
    "    def __init__(self, path_label, transform=None):\n",
    "        self.path_label = path_label\n",
    "        self.transform = transform\n",
    "\n",
    "    def __len__(self):\n",
    "        return len(self.path_label)\n",
    "\n",
    "    def __getitem__(self, idx):\n",
    "        path, label = self.path_label[idx]\n",
    "        img = Image.open(path).convert('RGB')\n",
    "\n",
    "        if self.transform is not None:\n",
    "            img = self.transform(img)\n",
    "\n",
    "        label = torch.tensor(label, dtype=torch.long)  #LongTensor\n",
    "        return img, label\n",
    "    \n",
    "batch_size = 64\n",
    "train_dataset = CustomDataset(create_path_label_list(train_df), transform=transform)\n",
    "val_dataset = CustomDataset(create_path_label_list(val_df), transform=transform)\n",
    "\n",
    "train_loader = DataLoader(train_dataset, batch_size=batch_size, shuffle=True)\n",
    "val_loader = DataLoader(val_dataset, batch_size=batch_size, shuffle=False)"
   ]
  },
  {
   "cell_type": "code",
   "execution_count": 22,
   "id": "dedf5a22",
   "metadata": {},
   "outputs": [
    {
     "name": "stdout",
     "output_type": "stream",
     "text": [
      "Using device: cuda\n"
     ]
    }
   ],
   "source": [
    "device = torch.device(\"cuda\" if torch.cuda.is_available() else \"cpu\")\n",
    "print(f\"Using device: {device}\")"
   ]
  },
  {
   "cell_type": "code",
   "execution_count": null,
   "id": "9068efc9",
   "metadata": {},
   "outputs": [
    {
     "name": "stdout",
     "output_type": "stream",
     "text": [
      "\n",
      "--- 2. Loading Model and Creating Feature Extractor ---\n",
      "✅ GhostNet model loaded and on device: cuda:0\n"
     ]
    }
   ],
   "source": [
    "MODEL_PATH = r\"ghost_netv1.pt\" \n",
    "\n",
    "try:\n",
    "    print(\"\\n--- 2. Loading Model and Creating Feature Extractor ---\")\n",
    "    \n",
    "    # Load model and map to the determined device\n",
    "    model = torch.jit.load(MODEL_PATH, map_location=device)\n",
    "    model.to(device) \n",
    "    \n",
    "    # Create the Feature Extractor (removes the classifier/final layer)\n",
    "    feature_layers = []\n",
    "    for name, module in model.named_children():\n",
    "        if name != \"classifier\":\n",
    "            feature_layers.append(module)\n",
    "        else:\n",
    "            break\n",
    "            \n",
    "    feature_extractor = torch.nn.Sequential(*feature_layers)\n",
    "    \n",
    "    # Verify the model is on the correct device\n",
    "    print(f\"✅ GhostNet model loaded and on device: {next(model.parameters()).device}\")\n",
    "\n",
    "except Exception as e:\n",
    "    print(f\"FATAL: Model loading or Feature Extractor setup failed. Error: {e}\")\n",
    "    sys.exit(1)"
   ]
  },
  {
   "cell_type": "code",
   "execution_count": null,
   "id": "8905edb2",
   "metadata": {},
   "outputs": [
    {
     "name": "stdout",
     "output_type": "stream",
     "text": [
      "\n",
      "--- 3. Extracting Normal Feature Vectors ---\n"
     ]
    },
    {
     "name": "stderr",
     "output_type": "stream",
     "text": [
      "Extracting Features: 100%|██████████| 329/329 [01:39<00:00,  3.30it/s]"
     ]
    },
    {
     "name": "stdout",
     "output_type": "stream",
     "text": [
      "✅ Feature Extraction Complete. Total Vectors: torch.Size([21000, 1280])\n",
      "Feature Vector Dimension (Input/Output size for AE): 1280\n"
     ]
    },
    {
     "name": "stderr",
     "output_type": "stream",
     "text": [
      "\n"
     ]
    }
   ],
   "source": [
    "# --- 3. Feature Extraction Loop ---\n",
    "\n",
    "feature_extractor.eval()\n",
    "feature_vectors = []\n",
    "\n",
    "print(\"\\n--- 3. Extracting Normal Feature Vectors ---\")\n",
    "with torch.no_grad():\n",
    "    for images, _ in tqdm(train_loader, desc=\"Extracting Features\"):\n",
    "        images = images.to(device)\n",
    "        \n",
    "        vector_output = feature_extractor(images)\n",
    "        \n",
    "        # FLATTEN: Reshape [N, C, H, W] to [N, C * H * W] \n",
    "        # This is the expected operation after the convolutional body.\n",
    "        vectors = vector_output.view(vector_output.size(0), -1) \n",
    "\n",
    "        feature_vectors.append(vectors.cpu())\n",
    "\n",
    "normal_features = torch.cat(feature_vectors, dim=0)\n",
    "feature_dim = normal_features.shape[1] \n",
    "print(f\"✅ Feature Extraction Complete. Total Vectors: {normal_features.shape}\")\n",
    "print(f\"Feature Vector Dimension (Input/Output size for AE): {feature_dim}\")"
   ]
  },
  {
   "cell_type": "code",
   "execution_count": 30,
   "id": "a5d943f8",
   "metadata": {},
   "outputs": [
    {
     "name": "stdout",
     "output_type": "stream",
     "text": [
      "\n",
      "--- 4. Training Autoencoder for Anomaly Detection ---\n"
     ]
    },
    {
     "name": "stderr",
     "output_type": "stream",
     "text": [
      "Epoch 1/200: 100%|██████████| 42/42 [00:00<00:00, 183.52it/s]\n"
     ]
    },
    {
     "name": "stdout",
     "output_type": "stream",
     "text": [
      "Epoch [1/200], Loss: 0.282793\n"
     ]
    },
    {
     "name": "stderr",
     "output_type": "stream",
     "text": [
      "Epoch 2/200: 100%|██████████| 42/42 [00:00<00:00, 315.34it/s]\n",
      "Epoch 3/200: 100%|██████████| 42/42 [00:00<00:00, 364.57it/s]\n",
      "Epoch 4/200: 100%|██████████| 42/42 [00:00<00:00, 366.37it/s]\n",
      "Epoch 5/200: 100%|██████████| 42/42 [00:00<00:00, 350.96it/s]\n",
      "Epoch 6/200: 100%|██████████| 42/42 [00:00<00:00, 353.71it/s]\n",
      "Epoch 7/200: 100%|██████████| 42/42 [00:00<00:00, 366.21it/s]\n",
      "Epoch 8/200: 100%|██████████| 42/42 [00:00<00:00, 366.19it/s]\n",
      "Epoch 9/200: 100%|██████████| 42/42 [00:00<00:00, 340.92it/s]\n",
      "Epoch 10/200: 100%|██████████| 42/42 [00:00<00:00, 342.33it/s]\n"
     ]
    },
    {
     "name": "stdout",
     "output_type": "stream",
     "text": [
      "Epoch [10/200], Loss: 0.070333\n"
     ]
    },
    {
     "name": "stderr",
     "output_type": "stream",
     "text": [
      "Epoch 11/200: 100%|██████████| 42/42 [00:00<00:00, 333.99it/s]\n",
      "Epoch 12/200: 100%|██████████| 42/42 [00:00<00:00, 316.55it/s]\n",
      "Epoch 13/200: 100%|██████████| 42/42 [00:00<00:00, 321.32it/s]\n",
      "Epoch 14/200: 100%|██████████| 42/42 [00:00<00:00, 331.53it/s]\n",
      "Epoch 15/200: 100%|██████████| 42/42 [00:00<00:00, 358.42it/s]\n",
      "Epoch 16/200: 100%|██████████| 42/42 [00:00<00:00, 330.20it/s]\n",
      "Epoch 17/200: 100%|██████████| 42/42 [00:00<00:00, 326.39it/s]\n",
      "Epoch 18/200: 100%|██████████| 42/42 [00:00<00:00, 326.39it/s]\n",
      "Epoch 19/200: 100%|██████████| 42/42 [00:00<00:00, 178.85it/s]\n",
      "Epoch 20/200: 100%|██████████| 42/42 [00:00<00:00, 317.42it/s]\n"
     ]
    },
    {
     "name": "stdout",
     "output_type": "stream",
     "text": [
      "Epoch [20/200], Loss: 0.054724\n"
     ]
    },
    {
     "name": "stderr",
     "output_type": "stream",
     "text": [
      "Epoch 21/200: 100%|██████████| 42/42 [00:00<00:00, 302.85it/s]\n",
      "Epoch 22/200: 100%|██████████| 42/42 [00:00<00:00, 322.54it/s]\n",
      "Epoch 23/200: 100%|██████████| 42/42 [00:00<00:00, 334.16it/s]\n",
      "Epoch 24/200: 100%|██████████| 42/42 [00:00<00:00, 338.17it/s]\n",
      "Epoch 25/200: 100%|██████████| 42/42 [00:00<00:00, 345.08it/s]\n",
      "Epoch 26/200: 100%|██████████| 42/42 [00:00<00:00, 327.66it/s]\n",
      "Epoch 27/200: 100%|██████████| 42/42 [00:00<00:00, 322.57it/s]\n",
      "Epoch 28/200: 100%|██████████| 42/42 [00:00<00:00, 315.34it/s]\n",
      "Epoch 29/200: 100%|██████████| 42/42 [00:00<00:00, 336.87it/s]\n",
      "Epoch 30/200: 100%|██████████| 42/42 [00:00<00:00, 339.57it/s]\n"
     ]
    },
    {
     "name": "stdout",
     "output_type": "stream",
     "text": [
      "Epoch [30/200], Loss: 0.047094\n"
     ]
    },
    {
     "name": "stderr",
     "output_type": "stream",
     "text": [
      "Epoch 31/200: 100%|██████████| 42/42 [00:00<00:00, 177.68it/s]\n",
      "Epoch 32/200: 100%|██████████| 42/42 [00:00<00:00, 332.82it/s]\n",
      "Epoch 33/200: 100%|██████████| 42/42 [00:00<00:00, 323.88it/s]\n",
      "Epoch 34/200: 100%|██████████| 42/42 [00:00<00:00, 328.86it/s]\n",
      "Epoch 35/200: 100%|██████████| 42/42 [00:00<00:00, 321.39it/s]\n",
      "Epoch 36/200: 100%|██████████| 42/42 [00:00<00:00, 330.77it/s]\n",
      "Epoch 37/200: 100%|██████████| 42/42 [00:00<00:00, 317.76it/s]\n",
      "Epoch 38/200: 100%|██████████| 42/42 [00:00<00:00, 318.67it/s]\n",
      "Epoch 39/200: 100%|██████████| 42/42 [00:00<00:00, 327.62it/s]\n",
      "Epoch 40/200: 100%|██████████| 42/42 [00:00<00:00, 316.33it/s]\n"
     ]
    },
    {
     "name": "stdout",
     "output_type": "stream",
     "text": [
      "Epoch [40/200], Loss: 0.042215\n"
     ]
    },
    {
     "name": "stderr",
     "output_type": "stream",
     "text": [
      "Epoch 41/200: 100%|██████████| 42/42 [00:00<00:00, 326.41it/s]\n",
      "Epoch 42/200: 100%|██████████| 42/42 [00:00<00:00, 320.07it/s]\n",
      "Epoch 43/200: 100%|██████████| 42/42 [00:00<00:00, 311.82it/s]\n",
      "Epoch 44/200: 100%|██████████| 42/42 [00:00<00:00, 322.55it/s]\n",
      "Epoch 45/200: 100%|██████████| 42/42 [00:00<00:00, 342.10it/s]\n",
      "Epoch 46/200: 100%|██████████| 42/42 [00:00<00:00, 317.69it/s]\n",
      "Epoch 47/200: 100%|██████████| 42/42 [00:00<00:00, 356.95it/s]\n",
      "Epoch 48/200: 100%|██████████| 42/42 [00:00<00:00, 317.77it/s]\n",
      "Epoch 49/200: 100%|██████████| 42/42 [00:00<00:00, 339.49it/s]\n",
      "Epoch 50/200: 100%|██████████| 42/42 [00:00<00:00, 323.87it/s]\n"
     ]
    },
    {
     "name": "stdout",
     "output_type": "stream",
     "text": [
      "Epoch [50/200], Loss: 0.038461\n"
     ]
    },
    {
     "name": "stderr",
     "output_type": "stream",
     "text": [
      "Epoch 51/200: 100%|██████████| 42/42 [00:00<00:00, 360.02it/s]\n",
      "Epoch 52/200: 100%|██████████| 42/42 [00:00<00:00, 343.71it/s]\n",
      "Epoch 53/200: 100%|██████████| 42/42 [00:00<00:00, 369.46it/s]\n",
      "Epoch 54/200: 100%|██████████| 42/42 [00:00<00:00, 361.55it/s]\n",
      "Epoch 55/200: 100%|██████████| 42/42 [00:00<00:00, 190.09it/s]\n",
      "Epoch 56/200: 100%|██████████| 42/42 [00:00<00:00, 349.27it/s]\n",
      "Epoch 57/200: 100%|██████████| 42/42 [00:00<00:00, 352.45it/s]\n",
      "Epoch 58/200: 100%|██████████| 42/42 [00:00<00:00, 353.87it/s]\n",
      "Epoch 59/200: 100%|██████████| 42/42 [00:00<00:00, 364.60it/s]\n",
      "Epoch 60/200: 100%|██████████| 42/42 [00:00<00:00, 358.41it/s]\n"
     ]
    },
    {
     "name": "stdout",
     "output_type": "stream",
     "text": [
      "Epoch [60/200], Loss: 0.035780\n"
     ]
    },
    {
     "name": "stderr",
     "output_type": "stream",
     "text": [
      "Epoch 61/200: 100%|██████████| 42/42 [00:00<00:00, 356.57it/s]\n",
      "Epoch 62/200: 100%|██████████| 42/42 [00:00<00:00, 376.13it/s]\n",
      "Epoch 63/200: 100%|██████████| 42/42 [00:00<00:00, 381.30it/s]\n",
      "Epoch 64/200: 100%|██████████| 42/42 [00:00<00:00, 338.08it/s]\n",
      "Epoch 65/200: 100%|██████████| 42/42 [00:00<00:00, 356.91it/s]\n",
      "Epoch 66/200: 100%|██████████| 42/42 [00:00<00:00, 331.17it/s]\n",
      "Epoch 67/200: 100%|██████████| 42/42 [00:00<00:00, 183.11it/s]\n",
      "Epoch 68/200: 100%|██████████| 42/42 [00:00<00:00, 363.08it/s]\n",
      "Epoch 69/200: 100%|██████████| 42/42 [00:00<00:00, 361.58it/s]\n",
      "Epoch 70/200: 100%|██████████| 42/42 [00:00<00:00, 359.83it/s]\n"
     ]
    },
    {
     "name": "stdout",
     "output_type": "stream",
     "text": [
      "Epoch [70/200], Loss: 0.033528\n"
     ]
    },
    {
     "name": "stderr",
     "output_type": "stream",
     "text": [
      "Epoch 71/200: 100%|██████████| 42/42 [00:00<00:00, 355.39it/s]\n",
      "Epoch 72/200: 100%|██████████| 42/42 [00:00<00:00, 346.62it/s]\n",
      "Epoch 73/200: 100%|██████████| 42/42 [00:00<00:00, 367.77it/s]\n",
      "Epoch 74/200: 100%|██████████| 42/42 [00:00<00:00, 366.27it/s]\n",
      "Epoch 75/200: 100%|██████████| 42/42 [00:00<00:00, 386.44it/s]\n",
      "Epoch 76/200: 100%|██████████| 42/42 [00:00<00:00, 369.41it/s]\n",
      "Epoch 77/200: 100%|██████████| 42/42 [00:00<00:00, 346.56it/s]\n",
      "Epoch 78/200: 100%|██████████| 42/42 [00:00<00:00, 369.42it/s]\n",
      "Epoch 79/200: 100%|██████████| 42/42 [00:00<00:00, 350.96it/s]\n",
      "Epoch 80/200: 100%|██████████| 42/42 [00:00<00:00, 358.38it/s]\n"
     ]
    },
    {
     "name": "stdout",
     "output_type": "stream",
     "text": [
      "Epoch [80/200], Loss: 0.032749\n"
     ]
    },
    {
     "name": "stderr",
     "output_type": "stream",
     "text": [
      "Epoch 81/200: 100%|██████████| 42/42 [00:00<00:00, 349.38it/s]\n",
      "Epoch 82/200: 100%|██████████| 42/42 [00:00<00:00, 376.12it/s]\n",
      "Epoch 83/200: 100%|██████████| 42/42 [00:00<00:00, 382.88it/s]\n",
      "Epoch 84/200: 100%|██████████| 42/42 [00:00<00:00, 371.06it/s]\n",
      "Epoch 85/200: 100%|██████████| 42/42 [00:00<00:00, 350.94it/s]\n",
      "Epoch 86/200: 100%|██████████| 42/42 [00:00<00:00, 362.97it/s]\n",
      "Epoch 87/200: 100%|██████████| 42/42 [00:00<00:00, 355.41it/s]\n",
      "Epoch 88/200: 100%|██████████| 42/42 [00:00<00:00, 364.62it/s]\n",
      "Epoch 89/200: 100%|██████████| 42/42 [00:00<00:00, 367.84it/s]\n",
      "Epoch 90/200: 100%|██████████| 42/42 [00:00<00:00, 361.56it/s]\n"
     ]
    },
    {
     "name": "stdout",
     "output_type": "stream",
     "text": [
      "Epoch [90/200], Loss: 0.030315\n"
     ]
    },
    {
     "name": "stderr",
     "output_type": "stream",
     "text": [
      "Epoch 91/200: 100%|██████████| 42/42 [00:00<00:00, 192.35it/s]\n",
      "Epoch 92/200: 100%|██████████| 42/42 [00:00<00:00, 366.27it/s]\n",
      "Epoch 93/200: 100%|██████████| 42/42 [00:00<00:00, 359.87it/s]\n",
      "Epoch 94/200: 100%|██████████| 42/42 [00:00<00:00, 343.59it/s]\n",
      "Epoch 95/200: 100%|██████████| 42/42 [00:00<00:00, 317.72it/s]\n",
      "Epoch 96/200: 100%|██████████| 42/42 [00:00<00:00, 350.87it/s]\n",
      "Epoch 97/200: 100%|██████████| 42/42 [00:00<00:00, 361.51it/s]\n",
      "Epoch 98/200: 100%|██████████| 42/42 [00:00<00:00, 377.80it/s]\n",
      "Epoch 99/200: 100%|██████████| 42/42 [00:00<00:00, 352.43it/s]\n",
      "Epoch 100/200: 100%|██████████| 42/42 [00:00<00:00, 338.24it/s]\n"
     ]
    },
    {
     "name": "stdout",
     "output_type": "stream",
     "text": [
      "Epoch [100/200], Loss: 0.029176\n"
     ]
    },
    {
     "name": "stderr",
     "output_type": "stream",
     "text": [
      "Epoch 101/200: 100%|██████████| 42/42 [00:00<00:00, 312.80it/s]\n",
      "Epoch 102/200: 100%|██████████| 42/42 [00:00<00:00, 358.39it/s]\n",
      "Epoch 103/200: 100%|██████████| 42/42 [00:00<00:00, 173.58it/s]\n",
      "Epoch 104/200: 100%|██████████| 42/42 [00:00<00:00, 327.56it/s]\n",
      "Epoch 105/200: 100%|██████████| 42/42 [00:00<00:00, 367.87it/s]\n",
      "Epoch 106/200: 100%|██████████| 42/42 [00:00<00:00, 331.49it/s]\n",
      "Epoch 107/200: 100%|██████████| 42/42 [00:00<00:00, 340.83it/s]\n",
      "Epoch 108/200: 100%|██████████| 42/42 [00:00<00:00, 348.02it/s]\n",
      "Epoch 109/200: 100%|██████████| 42/42 [00:00<00:00, 336.65it/s]\n",
      "Epoch 110/200: 100%|██████████| 42/42 [00:00<00:00, 344.06it/s]\n"
     ]
    },
    {
     "name": "stdout",
     "output_type": "stream",
     "text": [
      "Epoch [110/200], Loss: 0.028112\n"
     ]
    },
    {
     "name": "stderr",
     "output_type": "stream",
     "text": [
      "Epoch 111/200: 100%|██████████| 42/42 [00:00<00:00, 338.25it/s]\n",
      "Epoch 112/200: 100%|██████████| 42/42 [00:00<00:00, 350.73it/s]\n",
      "Epoch 113/200: 100%|██████████| 42/42 [00:00<00:00, 358.52it/s]\n",
      "Epoch 114/200: 100%|██████████| 42/42 [00:00<00:00, 355.42it/s]\n",
      "Epoch 115/200: 100%|██████████| 42/42 [00:00<00:00, 295.32it/s]\n",
      "Epoch 116/200: 100%|██████████| 42/42 [00:00<00:00, 301.69it/s]\n",
      "Epoch 117/200: 100%|██████████| 42/42 [00:00<00:00, 315.21it/s]\n",
      "Epoch 118/200: 100%|██████████| 42/42 [00:00<00:00, 320.15it/s]\n",
      "Epoch 119/200: 100%|██████████| 42/42 [00:00<00:00, 367.75it/s]\n",
      "Epoch 120/200: 100%|██████████| 42/42 [00:00<00:00, 321.33it/s]\n"
     ]
    },
    {
     "name": "stdout",
     "output_type": "stream",
     "text": [
      "Epoch [120/200], Loss: 0.027414\n"
     ]
    },
    {
     "name": "stderr",
     "output_type": "stream",
     "text": [
      "Epoch 121/200: 100%|██████████| 42/42 [00:00<00:00, 331.50it/s]\n",
      "Epoch 122/200: 100%|██████████| 42/42 [00:00<00:00, 320.00it/s]\n",
      "Epoch 123/200: 100%|██████████| 42/42 [00:00<00:00, 339.58it/s]\n",
      "Epoch 124/200: 100%|██████████| 42/42 [00:00<00:00, 317.57it/s]\n",
      "Epoch 125/200: 100%|██████████| 42/42 [00:00<00:00, 348.06it/s]\n",
      "Epoch 126/200: 100%|██████████| 42/42 [00:00<00:00, 177.20it/s]\n",
      "Epoch 127/200: 100%|██████████| 42/42 [00:00<00:00, 326.09it/s]\n",
      "Epoch 128/200: 100%|██████████| 42/42 [00:00<00:00, 348.04it/s]\n",
      "Epoch 129/200: 100%|██████████| 42/42 [00:00<00:00, 346.55it/s]\n",
      "Epoch 130/200: 100%|██████████| 42/42 [00:00<00:00, 343.70it/s]\n"
     ]
    },
    {
     "name": "stdout",
     "output_type": "stream",
     "text": [
      "Epoch [130/200], Loss: 0.026661\n"
     ]
    },
    {
     "name": "stderr",
     "output_type": "stream",
     "text": [
      "Epoch 131/200: 100%|██████████| 42/42 [00:00<00:00, 318.89it/s]\n",
      "Epoch 132/200: 100%|██████████| 42/42 [00:00<00:00, 356.74it/s]\n",
      "Epoch 133/200: 100%|██████████| 42/42 [00:00<00:00, 356.87it/s]\n",
      "Epoch 134/200: 100%|██████████| 42/42 [00:00<00:00, 361.47it/s]\n",
      "Epoch 135/200: 100%|██████████| 42/42 [00:00<00:00, 355.32it/s]\n",
      "Epoch 136/200: 100%|██████████| 42/42 [00:00<00:00, 379.53it/s]\n",
      "Epoch 137/200: 100%|██████████| 42/42 [00:00<00:00, 374.24it/s]\n",
      "Epoch 138/200: 100%|██████████| 42/42 [00:00<00:00, 349.45it/s]\n",
      "Epoch 139/200: 100%|██████████| 42/42 [00:00<00:00, 185.50it/s]\n",
      "Epoch 140/200: 100%|██████████| 42/42 [00:00<00:00, 335.48it/s]\n"
     ]
    },
    {
     "name": "stdout",
     "output_type": "stream",
     "text": [
      "Epoch [140/200], Loss: 0.026045\n"
     ]
    },
    {
     "name": "stderr",
     "output_type": "stream",
     "text": [
      "Epoch 141/200: 100%|██████████| 42/42 [00:00<00:00, 321.20it/s]\n",
      "Epoch 142/200: 100%|██████████| 42/42 [00:00<00:00, 359.98it/s]\n",
      "Epoch 143/200: 100%|██████████| 42/42 [00:00<00:00, 355.31it/s]\n",
      "Epoch 144/200: 100%|██████████| 42/42 [00:00<00:00, 376.16it/s]\n",
      "Epoch 145/200: 100%|██████████| 42/42 [00:00<00:00, 342.33it/s]\n",
      "Epoch 146/200: 100%|██████████| 42/42 [00:00<00:00, 347.94it/s]\n",
      "Epoch 147/200: 100%|██████████| 42/42 [00:00<00:00, 330.26it/s]\n",
      "Epoch 148/200: 100%|██████████| 42/42 [00:00<00:00, 379.56it/s]\n",
      "Epoch 149/200: 100%|██████████| 42/42 [00:00<00:00, 367.74it/s]\n",
      "Epoch 150/200: 100%|██████████| 42/42 [00:00<00:00, 339.59it/s]\n"
     ]
    },
    {
     "name": "stdout",
     "output_type": "stream",
     "text": [
      "Epoch [150/200], Loss: 0.025450\n"
     ]
    },
    {
     "name": "stderr",
     "output_type": "stream",
     "text": [
      "Epoch 151/200: 100%|██████████| 42/42 [00:00<00:00, 299.51it/s]\n",
      "Epoch 152/200: 100%|██████████| 42/42 [00:00<00:00, 312.83it/s]\n",
      "Epoch 153/200: 100%|██████████| 42/42 [00:00<00:00, 340.08it/s]\n",
      "Epoch 154/200: 100%|██████████| 42/42 [00:00<00:00, 339.52it/s]\n",
      "Epoch 155/200: 100%|██████████| 42/42 [00:00<00:00, 326.16it/s]\n",
      "Epoch 156/200: 100%|██████████| 42/42 [00:00<00:00, 331.54it/s]\n",
      "Epoch 157/200: 100%|██████████| 42/42 [00:00<00:00, 336.75it/s]\n",
      "Epoch 158/200: 100%|██████████| 42/42 [00:00<00:00, 343.75it/s]\n",
      "Epoch 159/200: 100%|██████████| 42/42 [00:00<00:00, 314.04it/s]\n",
      "Epoch 160/200: 100%|██████████| 42/42 [00:00<00:00, 331.52it/s]\n"
     ]
    },
    {
     "name": "stdout",
     "output_type": "stream",
     "text": [
      "Epoch [160/200], Loss: 0.025079\n"
     ]
    },
    {
     "name": "stderr",
     "output_type": "stream",
     "text": [
      "Epoch 161/200: 100%|██████████| 42/42 [00:00<00:00, 299.43it/s]\n",
      "Epoch 162/200: 100%|██████████| 42/42 [00:00<00:00, 180.00it/s]\n",
      "Epoch 163/200: 100%|██████████| 42/42 [00:00<00:00, 314.00it/s]\n",
      "Epoch 164/200: 100%|██████████| 42/42 [00:00<00:00, 331.54it/s]\n",
      "Epoch 165/200: 100%|██████████| 42/42 [00:00<00:00, 331.43it/s]\n",
      "Epoch 166/200: 100%|██████████| 42/42 [00:00<00:00, 311.78it/s]\n",
      "Epoch 167/200: 100%|██████████| 42/42 [00:00<00:00, 320.16it/s]\n",
      "Epoch 168/200: 100%|██████████| 42/42 [00:00<00:00, 353.76it/s]\n",
      "Epoch 169/200: 100%|██████████| 42/42 [00:00<00:00, 335.54it/s]\n",
      "Epoch 170/200: 100%|██████████| 42/42 [00:00<00:00, 325.03it/s]\n"
     ]
    },
    {
     "name": "stdout",
     "output_type": "stream",
     "text": [
      "Epoch [170/200], Loss: 0.024669\n"
     ]
    },
    {
     "name": "stderr",
     "output_type": "stream",
     "text": [
      "Epoch 171/200: 100%|██████████| 42/42 [00:00<00:00, 325.12it/s]\n",
      "Epoch 172/200: 100%|██████████| 42/42 [00:00<00:00, 311.66it/s]\n",
      "Epoch 173/200: 100%|██████████| 42/42 [00:00<00:00, 286.20it/s]\n",
      "Epoch 174/200: 100%|██████████| 42/42 [00:00<00:00, 178.02it/s]\n",
      "Epoch 175/200: 100%|██████████| 42/42 [00:00<00:00, 342.34it/s]\n",
      "Epoch 176/200: 100%|██████████| 42/42 [00:00<00:00, 295.21it/s]\n",
      "Epoch 177/200: 100%|██████████| 42/42 [00:00<00:00, 340.95it/s]\n",
      "Epoch 178/200: 100%|██████████| 42/42 [00:00<00:00, 345.09it/s]\n",
      "Epoch 179/200: 100%|██████████| 42/42 [00:00<00:00, 339.54it/s]\n",
      "Epoch 180/200: 100%|██████████| 42/42 [00:00<00:00, 343.78it/s]\n"
     ]
    },
    {
     "name": "stdout",
     "output_type": "stream",
     "text": [
      "Epoch [180/200], Loss: 0.024359\n"
     ]
    },
    {
     "name": "stderr",
     "output_type": "stream",
     "text": [
      "Epoch 181/200: 100%|██████████| 42/42 [00:00<00:00, 350.84it/s]\n",
      "Epoch 182/200: 100%|██████████| 42/42 [00:00<00:00, 356.96it/s]\n",
      "Epoch 183/200: 100%|██████████| 42/42 [00:00<00:00, 334.12it/s]\n",
      "Epoch 184/200: 100%|██████████| 42/42 [00:00<00:00, 336.80it/s]\n",
      "Epoch 185/200: 100%|██████████| 42/42 [00:00<00:00, 341.00it/s]\n",
      "Epoch 186/200: 100%|██████████| 42/42 [00:00<00:00, 326.25it/s]\n",
      "Epoch 187/200: 100%|██████████| 42/42 [00:00<00:00, 315.30it/s]\n",
      "Epoch 188/200: 100%|██████████| 42/42 [00:00<00:00, 347.93it/s]\n",
      "Epoch 189/200: 100%|██████████| 42/42 [00:00<00:00, 319.98it/s]\n",
      "Epoch 190/200: 100%|██████████| 42/42 [00:00<00:00, 314.07it/s]\n"
     ]
    },
    {
     "name": "stdout",
     "output_type": "stream",
     "text": [
      "Epoch [190/200], Loss: 0.024188\n"
     ]
    },
    {
     "name": "stderr",
     "output_type": "stream",
     "text": [
      "Epoch 191/200: 100%|██████████| 42/42 [00:00<00:00, 322.45it/s]\n",
      "Epoch 192/200: 100%|██████████| 42/42 [00:00<00:00, 308.36it/s]\n",
      "Epoch 193/200: 100%|██████████| 42/42 [00:00<00:00, 379.60it/s]\n",
      "Epoch 194/200: 100%|██████████| 42/42 [00:00<00:00, 307.17it/s]\n",
      "Epoch 195/200: 100%|██████████| 42/42 [00:00<00:00, 289.15it/s]\n",
      "Epoch 196/200: 100%|██████████| 42/42 [00:00<00:00, 308.34it/s]\n",
      "Epoch 197/200: 100%|██████████| 42/42 [00:00<00:00, 315.21it/s]\n",
      "Epoch 198/200: 100%|██████████| 42/42 [00:00<00:00, 178.38it/s]\n",
      "Epoch 199/200: 100%|██████████| 42/42 [00:00<00:00, 332.64it/s]\n",
      "Epoch 200/200: 100%|██████████| 42/42 [00:00<00:00, 322.18it/s]\n"
     ]
    },
    {
     "name": "stdout",
     "output_type": "stream",
     "text": [
      "Epoch [200/200], Loss: 0.023920\n",
      "✅ Autoencoder model saved as 'autoencoder_anomaly_detector.pth'.\n",
      "\n",
      "--- 5. Calculating Anomaly Threshold (τ) ---\n"
     ]
    },
    {
     "name": "stderr",
     "output_type": "stream",
     "text": [
      "Calculating Threshold: 100%|██████████| 42/42 [00:00<00:00, 421.96it/s]"
     ]
    },
    {
     "name": "stdout",
     "output_type": "stream",
     "text": [
      "\n",
      "==================================================\n",
      "🚨 ANOMALY DETECTION TRAINING COMPLETE 🚨\n",
      "FINAL ANOMALY THRESHOLD (τ): 145.2529\n",
      "==================================================\n"
     ]
    },
    {
     "name": "stderr",
     "output_type": "stream",
     "text": [
      "\n"
     ]
    }
   ],
   "source": [
    "class Autoencoder(nn.Module):\n",
    "    def __init__(self, input_dim, latent_dim=256):\n",
    "        super(Autoencoder, self).__init__()\n",
    "        # Encoder\n",
    "        self.encoder = nn.Sequential(\n",
    "            nn.Linear(input_dim, input_dim // 2), nn.ReLU(True),\n",
    "            nn.Linear(input_dim // 2, latent_dim), nn.ReLU(True)\n",
    "        )\n",
    "        # Decoder\n",
    "        self.decoder = nn.Sequential(\n",
    "            nn.Linear(latent_dim, input_dim // 2), nn.ReLU(True),\n",
    "            nn.Linear(input_dim // 2, input_dim) # Final output is linear\n",
    "        )\n",
    "    def forward(self, x):\n",
    "        return self.decoder(self.encoder(x))\n",
    "\n",
    "# Hyperparameters\n",
    "LATENT_DIM = 256 \n",
    "NUM_EPOCHS = 200\n",
    "# OPTIMIZATION 1: Increased Batch Size (Leveraging 16GB VRAM)\n",
    "BATCH_SIZE_AE = 512 # Increased from 128 to 512 (or higher, e.g., 1024, if memory allows)\n",
    "LEARNING_RATE = 1e-4\n",
    "\n",
    "# Setup\n",
    "# OPTIMIZATION 2: Move normal_features to GPU ONCE\n",
    "# This is cleaner than doing it within the TensorDataset definition.\n",
    "normal_features_gpu = normal_features.to(device)\n",
    "\n",
    "ae_model = Autoencoder(input_dim=feature_dim, latent_dim=LATENT_DIM).to(device)\n",
    "criterion = nn.MSELoss(reduction='mean')\n",
    "optimizer = torch.optim.Adam(ae_model.parameters(), lr=LEARNING_RATE)\n",
    "\n",
    "# Data Loader\n",
    "feature_dataset = TensorDataset(normal_features_gpu) # Use the GPU tensor\n",
    "feature_loader = DataLoader(feature_dataset, batch_size=BATCH_SIZE_AE, shuffle=True)\n",
    "\n",
    "print(\"\\n--- 4. Training Autoencoder for Anomaly Detection ---\")\n",
    "for epoch in range(NUM_EPOCHS):\n",
    "    total_loss = 0\n",
    "    ae_model.train()\n",
    "    # OPTIMIZATION 3: Use tqdm for clear progress monitoring\n",
    "    for (data,) in tqdm(feature_loader, desc=f\"Epoch {epoch+1}/{NUM_EPOCHS}\"):\n",
    "        # NOTE: 'data' is already on the GPU because 'normal_features_gpu' was used.\n",
    "        # No need for data.to(device) inside the loop.\n",
    "        \n",
    "        optimizer.zero_grad()\n",
    "        reconstructed_data = ae_model(data)\n",
    "        loss = criterion(reconstructed_data, data) \n",
    "        loss.backward()\n",
    "        optimizer.step()\n",
    "        total_loss += loss.item() * data.size(0)\n",
    "    \n",
    "    avg_loss = total_loss / len(normal_features)\n",
    "    if (epoch + 1) % 10 == 0 or epoch == 0:\n",
    "          print(f\"Epoch [{epoch+1}/{NUM_EPOCHS}], Loss: {avg_loss:.6f}\")\n",
    "\n",
    "# Save the trained Autoencoder model\n",
    "torch.save(ae_model.state_dict(), 'autoencoder_anomaly_detector.pth')\n",
    "print(\"✅ Autoencoder model saved as 'autoencoder_anomaly_detector.pth'.\")\n",
    "\n",
    "# ----------------------------------------------------------------------\n",
    "\n",
    "# --- 5. Determine Anomaly Threshold (τ) ---\n",
    "\n",
    "ae_model.eval()\n",
    "normal_losses = []\n",
    "\n",
    "print(\"\\n--- 5. Calculating Anomaly Threshold (τ) ---\")\n",
    "with torch.no_grad():\n",
    "    for (data,) in tqdm(feature_loader, desc=\"Calculating Threshold\"):\n",
    "        # data is already on GPU\n",
    "        reconstructed_data = ae_model(data)\n",
    "        # Calculate L2 Reconstruction Loss for each sample\n",
    "        # OPTIMIZATION 4: Use a faster way to calculate the L2 norm (squared error)\n",
    "        # You were doing: torch.sum((data - reconstructed_data)**2, dim=1)\n",
    "        # Using the faster torch.linalg.norm is more direct and potentially optimized.\n",
    "        sample_losses = torch.linalg.norm(data - reconstructed_data, dim=1).pow(2).cpu().numpy()\n",
    "        normal_losses.extend(sample_losses)\n",
    "\n",
    "# Use the 99.9th percentile to set a robust threshold\n",
    "FINAL_THRESHOLD = np.percentile(np.array(normal_losses), 99.9)\n",
    "\n",
    "print(\"\\n\" + \"=\" * 50)\n",
    "print(f\"🚨 ANOMALY DETECTION TRAINING COMPLETE 🚨\")\n",
    "print(f\"FINAL ANOMALY THRESHOLD (τ): {FINAL_THRESHOLD:.4f}\")\n",
    "print(\"==================================================\")"
   ]
  },
  {
   "cell_type": "markdown",
   "id": "6a2a00bb",
   "metadata": {},
   "source": [
    "------------- Testing ----------------"
   ]
  },
  {
   "cell_type": "code",
   "execution_count": null,
   "id": "c3295484",
   "metadata": {},
   "outputs": [],
   "source": []
  }
 ],
 "metadata": {
  "kernelspec": {
   "display_name": "mlflow",
   "language": "python",
   "name": "python3"
  },
  "language_info": {
   "codemirror_mode": {
    "name": "ipython",
    "version": 3
   },
   "file_extension": ".py",
   "mimetype": "text/x-python",
   "name": "python",
   "nbconvert_exporter": "python",
   "pygments_lexer": "ipython3",
   "version": "3.11.13"
  }
 },
 "nbformat": 4,
 "nbformat_minor": 5
}
